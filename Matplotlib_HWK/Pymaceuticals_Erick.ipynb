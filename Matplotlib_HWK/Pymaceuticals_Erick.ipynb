{
 "cells": [
  {
   "cell_type": "markdown",
   "metadata": {},
   "source": [
    "## Observations and Insights "
   ]
  },
  {
   "cell_type": "markdown",
   "metadata": {},
   "source": [
    "###My comments:\n",
    "\n",
    "I see that some treatments are better if we look to the plot charts. I also can see that treatments which are more deficient have a higher Std Deviation, since its results do not stick to the desired outcome."
   ]
  },
  {
   "cell_type": "code",
   "execution_count": 1,
   "metadata": {},
   "outputs": [],
   "source": [
    "# Dependencies and Setup\n",
    "import matplotlib.pyplot as plt\n",
    "import pandas as pd\n",
    "import scipy.stats as st\n",
    "import numpy as np\n",
    "\n",
    "# Study data files\n",
    "mouse_metadata_path = \"data/Mouse_metadata.csv\"\n",
    "study_results_path = \"data/Study_results.csv\"\n",
    "\n",
    "# Read the mouse data and the study results\n",
    "mouse_metadata = pd.read_csv(mouse_metadata_path)\n",
    "study_results = pd.read_csv(study_results_path)\n",
    "\n",
    "# Combine the data into a single dataset\n",
    "mice=study_results.merge(mouse_metadata, how=\"outer\")"
   ]
  },
  {
   "cell_type": "code",
   "execution_count": 2,
   "metadata": {},
   "outputs": [
    {
     "data": {
      "text/html": [
       "<div>\n",
       "<style scoped>\n",
       "    .dataframe tbody tr th:only-of-type {\n",
       "        vertical-align: middle;\n",
       "    }\n",
       "\n",
       "    .dataframe tbody tr th {\n",
       "        vertical-align: top;\n",
       "    }\n",
       "\n",
       "    .dataframe thead th {\n",
       "        text-align: right;\n",
       "    }\n",
       "</style>\n",
       "<table border=\"1\" class=\"dataframe\">\n",
       "  <thead>\n",
       "    <tr style=\"text-align: right;\">\n",
       "      <th></th>\n",
       "      <th>Mouse ID</th>\n",
       "      <th>Timepoint</th>\n",
       "      <th>Tumor Volume (mm3)</th>\n",
       "      <th>Metastatic Sites</th>\n",
       "    </tr>\n",
       "  </thead>\n",
       "  <tbody>\n",
       "    <tr>\n",
       "      <th>0</th>\n",
       "      <td>b128</td>\n",
       "      <td>0</td>\n",
       "      <td>45.000000</td>\n",
       "      <td>0</td>\n",
       "    </tr>\n",
       "    <tr>\n",
       "      <th>1</th>\n",
       "      <td>f932</td>\n",
       "      <td>0</td>\n",
       "      <td>45.000000</td>\n",
       "      <td>0</td>\n",
       "    </tr>\n",
       "    <tr>\n",
       "      <th>2</th>\n",
       "      <td>g107</td>\n",
       "      <td>0</td>\n",
       "      <td>45.000000</td>\n",
       "      <td>0</td>\n",
       "    </tr>\n",
       "    <tr>\n",
       "      <th>3</th>\n",
       "      <td>a457</td>\n",
       "      <td>0</td>\n",
       "      <td>45.000000</td>\n",
       "      <td>0</td>\n",
       "    </tr>\n",
       "    <tr>\n",
       "      <th>4</th>\n",
       "      <td>c819</td>\n",
       "      <td>0</td>\n",
       "      <td>45.000000</td>\n",
       "      <td>0</td>\n",
       "    </tr>\n",
       "    <tr>\n",
       "      <th>...</th>\n",
       "      <td>...</td>\n",
       "      <td>...</td>\n",
       "      <td>...</td>\n",
       "      <td>...</td>\n",
       "    </tr>\n",
       "    <tr>\n",
       "      <th>1888</th>\n",
       "      <td>r944</td>\n",
       "      <td>45</td>\n",
       "      <td>41.581521</td>\n",
       "      <td>2</td>\n",
       "    </tr>\n",
       "    <tr>\n",
       "      <th>1889</th>\n",
       "      <td>u364</td>\n",
       "      <td>45</td>\n",
       "      <td>31.023923</td>\n",
       "      <td>3</td>\n",
       "    </tr>\n",
       "    <tr>\n",
       "      <th>1890</th>\n",
       "      <td>p438</td>\n",
       "      <td>45</td>\n",
       "      <td>61.433892</td>\n",
       "      <td>1</td>\n",
       "    </tr>\n",
       "    <tr>\n",
       "      <th>1891</th>\n",
       "      <td>x773</td>\n",
       "      <td>45</td>\n",
       "      <td>58.634971</td>\n",
       "      <td>4</td>\n",
       "    </tr>\n",
       "    <tr>\n",
       "      <th>1892</th>\n",
       "      <td>b879</td>\n",
       "      <td>45</td>\n",
       "      <td>72.555239</td>\n",
       "      <td>2</td>\n",
       "    </tr>\n",
       "  </tbody>\n",
       "</table>\n",
       "<p>1893 rows × 4 columns</p>\n",
       "</div>"
      ],
      "text/plain": [
       "     Mouse ID  Timepoint  Tumor Volume (mm3)  Metastatic Sites\n",
       "0        b128          0           45.000000                 0\n",
       "1        f932          0           45.000000                 0\n",
       "2        g107          0           45.000000                 0\n",
       "3        a457          0           45.000000                 0\n",
       "4        c819          0           45.000000                 0\n",
       "...       ...        ...                 ...               ...\n",
       "1888     r944         45           41.581521                 2\n",
       "1889     u364         45           31.023923                 3\n",
       "1890     p438         45           61.433892                 1\n",
       "1891     x773         45           58.634971                 4\n",
       "1892     b879         45           72.555239                 2\n",
       "\n",
       "[1893 rows x 4 columns]"
      ]
     },
     "execution_count": 2,
     "metadata": {},
     "output_type": "execute_result"
    }
   ],
   "source": [
    "study_results"
   ]
  },
  {
   "cell_type": "code",
   "execution_count": 3,
   "metadata": {},
   "outputs": [
    {
     "data": {
      "text/html": [
       "<div>\n",
       "<style scoped>\n",
       "    .dataframe tbody tr th:only-of-type {\n",
       "        vertical-align: middle;\n",
       "    }\n",
       "\n",
       "    .dataframe tbody tr th {\n",
       "        vertical-align: top;\n",
       "    }\n",
       "\n",
       "    .dataframe thead th {\n",
       "        text-align: right;\n",
       "    }\n",
       "</style>\n",
       "<table border=\"1\" class=\"dataframe\">\n",
       "  <thead>\n",
       "    <tr style=\"text-align: right;\">\n",
       "      <th></th>\n",
       "      <th>Mouse ID</th>\n",
       "      <th>Drug Regimen</th>\n",
       "      <th>Sex</th>\n",
       "      <th>Age_months</th>\n",
       "      <th>Weight (g)</th>\n",
       "    </tr>\n",
       "  </thead>\n",
       "  <tbody>\n",
       "    <tr>\n",
       "      <th>0</th>\n",
       "      <td>k403</td>\n",
       "      <td>Ramicane</td>\n",
       "      <td>Male</td>\n",
       "      <td>21</td>\n",
       "      <td>16</td>\n",
       "    </tr>\n",
       "    <tr>\n",
       "      <th>1</th>\n",
       "      <td>s185</td>\n",
       "      <td>Capomulin</td>\n",
       "      <td>Female</td>\n",
       "      <td>3</td>\n",
       "      <td>17</td>\n",
       "    </tr>\n",
       "    <tr>\n",
       "      <th>2</th>\n",
       "      <td>x401</td>\n",
       "      <td>Capomulin</td>\n",
       "      <td>Female</td>\n",
       "      <td>16</td>\n",
       "      <td>15</td>\n",
       "    </tr>\n",
       "    <tr>\n",
       "      <th>3</th>\n",
       "      <td>m601</td>\n",
       "      <td>Capomulin</td>\n",
       "      <td>Male</td>\n",
       "      <td>22</td>\n",
       "      <td>17</td>\n",
       "    </tr>\n",
       "    <tr>\n",
       "      <th>4</th>\n",
       "      <td>g791</td>\n",
       "      <td>Ramicane</td>\n",
       "      <td>Male</td>\n",
       "      <td>11</td>\n",
       "      <td>16</td>\n",
       "    </tr>\n",
       "    <tr>\n",
       "      <th>...</th>\n",
       "      <td>...</td>\n",
       "      <td>...</td>\n",
       "      <td>...</td>\n",
       "      <td>...</td>\n",
       "      <td>...</td>\n",
       "    </tr>\n",
       "    <tr>\n",
       "      <th>244</th>\n",
       "      <td>z314</td>\n",
       "      <td>Stelasyn</td>\n",
       "      <td>Female</td>\n",
       "      <td>21</td>\n",
       "      <td>28</td>\n",
       "    </tr>\n",
       "    <tr>\n",
       "      <th>245</th>\n",
       "      <td>z435</td>\n",
       "      <td>Propriva</td>\n",
       "      <td>Female</td>\n",
       "      <td>12</td>\n",
       "      <td>26</td>\n",
       "    </tr>\n",
       "    <tr>\n",
       "      <th>246</th>\n",
       "      <td>z581</td>\n",
       "      <td>Infubinol</td>\n",
       "      <td>Female</td>\n",
       "      <td>24</td>\n",
       "      <td>25</td>\n",
       "    </tr>\n",
       "    <tr>\n",
       "      <th>247</th>\n",
       "      <td>z795</td>\n",
       "      <td>Naftisol</td>\n",
       "      <td>Female</td>\n",
       "      <td>13</td>\n",
       "      <td>29</td>\n",
       "    </tr>\n",
       "    <tr>\n",
       "      <th>248</th>\n",
       "      <td>z969</td>\n",
       "      <td>Naftisol</td>\n",
       "      <td>Male</td>\n",
       "      <td>9</td>\n",
       "      <td>30</td>\n",
       "    </tr>\n",
       "  </tbody>\n",
       "</table>\n",
       "<p>249 rows × 5 columns</p>\n",
       "</div>"
      ],
      "text/plain": [
       "    Mouse ID Drug Regimen     Sex  Age_months  Weight (g)\n",
       "0       k403     Ramicane    Male          21          16\n",
       "1       s185    Capomulin  Female           3          17\n",
       "2       x401    Capomulin  Female          16          15\n",
       "3       m601    Capomulin    Male          22          17\n",
       "4       g791     Ramicane    Male          11          16\n",
       "..       ...          ...     ...         ...         ...\n",
       "244     z314     Stelasyn  Female          21          28\n",
       "245     z435     Propriva  Female          12          26\n",
       "246     z581    Infubinol  Female          24          25\n",
       "247     z795     Naftisol  Female          13          29\n",
       "248     z969     Naftisol    Male           9          30\n",
       "\n",
       "[249 rows x 5 columns]"
      ]
     },
     "execution_count": 3,
     "metadata": {},
     "output_type": "execute_result"
    }
   ],
   "source": [
    "mouse_metadata"
   ]
  },
  {
   "cell_type": "code",
   "execution_count": 4,
   "metadata": {},
   "outputs": [
    {
     "data": {
      "text/html": [
       "<div>\n",
       "<style scoped>\n",
       "    .dataframe tbody tr th:only-of-type {\n",
       "        vertical-align: middle;\n",
       "    }\n",
       "\n",
       "    .dataframe tbody tr th {\n",
       "        vertical-align: top;\n",
       "    }\n",
       "\n",
       "    .dataframe thead th {\n",
       "        text-align: right;\n",
       "    }\n",
       "</style>\n",
       "<table border=\"1\" class=\"dataframe\">\n",
       "  <thead>\n",
       "    <tr style=\"text-align: right;\">\n",
       "      <th></th>\n",
       "      <th>Mouse ID</th>\n",
       "      <th>Timepoint</th>\n",
       "      <th>Tumor Volume (mm3)</th>\n",
       "      <th>Metastatic Sites</th>\n",
       "      <th>Drug Regimen</th>\n",
       "      <th>Sex</th>\n",
       "      <th>Age_months</th>\n",
       "      <th>Weight (g)</th>\n",
       "    </tr>\n",
       "  </thead>\n",
       "  <tbody>\n",
       "    <tr>\n",
       "      <th>0</th>\n",
       "      <td>b128</td>\n",
       "      <td>0</td>\n",
       "      <td>45.000000</td>\n",
       "      <td>0</td>\n",
       "      <td>Capomulin</td>\n",
       "      <td>Female</td>\n",
       "      <td>9</td>\n",
       "      <td>22</td>\n",
       "    </tr>\n",
       "    <tr>\n",
       "      <th>1</th>\n",
       "      <td>b128</td>\n",
       "      <td>5</td>\n",
       "      <td>45.651331</td>\n",
       "      <td>0</td>\n",
       "      <td>Capomulin</td>\n",
       "      <td>Female</td>\n",
       "      <td>9</td>\n",
       "      <td>22</td>\n",
       "    </tr>\n",
       "    <tr>\n",
       "      <th>2</th>\n",
       "      <td>b128</td>\n",
       "      <td>10</td>\n",
       "      <td>43.270852</td>\n",
       "      <td>0</td>\n",
       "      <td>Capomulin</td>\n",
       "      <td>Female</td>\n",
       "      <td>9</td>\n",
       "      <td>22</td>\n",
       "    </tr>\n",
       "    <tr>\n",
       "      <th>3</th>\n",
       "      <td>b128</td>\n",
       "      <td>15</td>\n",
       "      <td>43.784893</td>\n",
       "      <td>0</td>\n",
       "      <td>Capomulin</td>\n",
       "      <td>Female</td>\n",
       "      <td>9</td>\n",
       "      <td>22</td>\n",
       "    </tr>\n",
       "    <tr>\n",
       "      <th>4</th>\n",
       "      <td>b128</td>\n",
       "      <td>20</td>\n",
       "      <td>42.731552</td>\n",
       "      <td>0</td>\n",
       "      <td>Capomulin</td>\n",
       "      <td>Female</td>\n",
       "      <td>9</td>\n",
       "      <td>22</td>\n",
       "    </tr>\n",
       "    <tr>\n",
       "      <th>...</th>\n",
       "      <td>...</td>\n",
       "      <td>...</td>\n",
       "      <td>...</td>\n",
       "      <td>...</td>\n",
       "      <td>...</td>\n",
       "      <td>...</td>\n",
       "      <td>...</td>\n",
       "      <td>...</td>\n",
       "    </tr>\n",
       "    <tr>\n",
       "      <th>1888</th>\n",
       "      <td>m601</td>\n",
       "      <td>25</td>\n",
       "      <td>33.118756</td>\n",
       "      <td>1</td>\n",
       "      <td>Capomulin</td>\n",
       "      <td>Male</td>\n",
       "      <td>22</td>\n",
       "      <td>17</td>\n",
       "    </tr>\n",
       "    <tr>\n",
       "      <th>1889</th>\n",
       "      <td>m601</td>\n",
       "      <td>30</td>\n",
       "      <td>31.758275</td>\n",
       "      <td>1</td>\n",
       "      <td>Capomulin</td>\n",
       "      <td>Male</td>\n",
       "      <td>22</td>\n",
       "      <td>17</td>\n",
       "    </tr>\n",
       "    <tr>\n",
       "      <th>1890</th>\n",
       "      <td>m601</td>\n",
       "      <td>35</td>\n",
       "      <td>30.834357</td>\n",
       "      <td>1</td>\n",
       "      <td>Capomulin</td>\n",
       "      <td>Male</td>\n",
       "      <td>22</td>\n",
       "      <td>17</td>\n",
       "    </tr>\n",
       "    <tr>\n",
       "      <th>1891</th>\n",
       "      <td>m601</td>\n",
       "      <td>40</td>\n",
       "      <td>31.378045</td>\n",
       "      <td>1</td>\n",
       "      <td>Capomulin</td>\n",
       "      <td>Male</td>\n",
       "      <td>22</td>\n",
       "      <td>17</td>\n",
       "    </tr>\n",
       "    <tr>\n",
       "      <th>1892</th>\n",
       "      <td>m601</td>\n",
       "      <td>45</td>\n",
       "      <td>28.430964</td>\n",
       "      <td>1</td>\n",
       "      <td>Capomulin</td>\n",
       "      <td>Male</td>\n",
       "      <td>22</td>\n",
       "      <td>17</td>\n",
       "    </tr>\n",
       "  </tbody>\n",
       "</table>\n",
       "<p>1893 rows × 8 columns</p>\n",
       "</div>"
      ],
      "text/plain": [
       "     Mouse ID  Timepoint  Tumor Volume (mm3)  Metastatic Sites Drug Regimen  \\\n",
       "0        b128          0           45.000000                 0    Capomulin   \n",
       "1        b128          5           45.651331                 0    Capomulin   \n",
       "2        b128         10           43.270852                 0    Capomulin   \n",
       "3        b128         15           43.784893                 0    Capomulin   \n",
       "4        b128         20           42.731552                 0    Capomulin   \n",
       "...       ...        ...                 ...               ...          ...   \n",
       "1888     m601         25           33.118756                 1    Capomulin   \n",
       "1889     m601         30           31.758275                 1    Capomulin   \n",
       "1890     m601         35           30.834357                 1    Capomulin   \n",
       "1891     m601         40           31.378045                 1    Capomulin   \n",
       "1892     m601         45           28.430964                 1    Capomulin   \n",
       "\n",
       "         Sex  Age_months  Weight (g)  \n",
       "0     Female           9          22  \n",
       "1     Female           9          22  \n",
       "2     Female           9          22  \n",
       "3     Female           9          22  \n",
       "4     Female           9          22  \n",
       "...      ...         ...         ...  \n",
       "1888    Male          22          17  \n",
       "1889    Male          22          17  \n",
       "1890    Male          22          17  \n",
       "1891    Male          22          17  \n",
       "1892    Male          22          17  \n",
       "\n",
       "[1893 rows x 8 columns]"
      ]
     },
     "execution_count": 4,
     "metadata": {},
     "output_type": "execute_result"
    }
   ],
   "source": [
    "mice"
   ]
  },
  {
   "cell_type": "code",
   "execution_count": 5,
   "metadata": {},
   "outputs": [
    {
     "data": {
      "text/plain": [
       "1893"
      ]
     },
     "execution_count": 5,
     "metadata": {},
     "output_type": "execute_result"
    }
   ],
   "source": [
    "# Checking the number of mice in the DataFrame.\n",
    "mice[\"Mouse ID\"].count()"
   ]
  },
  {
   "cell_type": "code",
   "execution_count": 6,
   "metadata": {},
   "outputs": [
    {
     "data": {
      "text/html": [
       "<div>\n",
       "<style scoped>\n",
       "    .dataframe tbody tr th:only-of-type {\n",
       "        vertical-align: middle;\n",
       "    }\n",
       "\n",
       "    .dataframe tbody tr th {\n",
       "        vertical-align: top;\n",
       "    }\n",
       "\n",
       "    .dataframe thead th {\n",
       "        text-align: right;\n",
       "    }\n",
       "</style>\n",
       "<table border=\"1\" class=\"dataframe\">\n",
       "  <thead>\n",
       "    <tr style=\"text-align: right;\">\n",
       "      <th></th>\n",
       "      <th>Mouse ID</th>\n",
       "      <th>Timepoint</th>\n",
       "      <th>Tumor Volume (mm3)</th>\n",
       "      <th>Metastatic Sites</th>\n",
       "      <th>Drug Regimen</th>\n",
       "      <th>Sex</th>\n",
       "      <th>Age_months</th>\n",
       "      <th>Weight (g)</th>\n",
       "    </tr>\n",
       "  </thead>\n",
       "  <tbody>\n",
       "    <tr>\n",
       "      <th>861</th>\n",
       "      <td>g989</td>\n",
       "      <td>0</td>\n",
       "      <td>45.000000</td>\n",
       "      <td>0</td>\n",
       "      <td>Propriva</td>\n",
       "      <td>Female</td>\n",
       "      <td>21</td>\n",
       "      <td>26</td>\n",
       "    </tr>\n",
       "    <tr>\n",
       "      <th>863</th>\n",
       "      <td>g989</td>\n",
       "      <td>5</td>\n",
       "      <td>47.570392</td>\n",
       "      <td>0</td>\n",
       "      <td>Propriva</td>\n",
       "      <td>Female</td>\n",
       "      <td>21</td>\n",
       "      <td>26</td>\n",
       "    </tr>\n",
       "    <tr>\n",
       "      <th>865</th>\n",
       "      <td>g989</td>\n",
       "      <td>10</td>\n",
       "      <td>49.880528</td>\n",
       "      <td>0</td>\n",
       "      <td>Propriva</td>\n",
       "      <td>Female</td>\n",
       "      <td>21</td>\n",
       "      <td>26</td>\n",
       "    </tr>\n",
       "    <tr>\n",
       "      <th>867</th>\n",
       "      <td>g989</td>\n",
       "      <td>15</td>\n",
       "      <td>53.442020</td>\n",
       "      <td>0</td>\n",
       "      <td>Propriva</td>\n",
       "      <td>Female</td>\n",
       "      <td>21</td>\n",
       "      <td>26</td>\n",
       "    </tr>\n",
       "    <tr>\n",
       "      <th>869</th>\n",
       "      <td>g989</td>\n",
       "      <td>20</td>\n",
       "      <td>54.657650</td>\n",
       "      <td>1</td>\n",
       "      <td>Propriva</td>\n",
       "      <td>Female</td>\n",
       "      <td>21</td>\n",
       "      <td>26</td>\n",
       "    </tr>\n",
       "  </tbody>\n",
       "</table>\n",
       "</div>"
      ],
      "text/plain": [
       "    Mouse ID  Timepoint  Tumor Volume (mm3)  Metastatic Sites Drug Regimen  \\\n",
       "861     g989          0           45.000000                 0     Propriva   \n",
       "863     g989          5           47.570392                 0     Propriva   \n",
       "865     g989         10           49.880528                 0     Propriva   \n",
       "867     g989         15           53.442020                 0     Propriva   \n",
       "869     g989         20           54.657650                 1     Propriva   \n",
       "\n",
       "        Sex  Age_months  Weight (g)  \n",
       "861  Female          21          26  \n",
       "863  Female          21          26  \n",
       "865  Female          21          26  \n",
       "867  Female          21          26  \n",
       "869  Female          21          26  "
      ]
     },
     "execution_count": 6,
     "metadata": {},
     "output_type": "execute_result"
    }
   ],
   "source": [
    "# Getting the duplicate mice by ID number that shows up for Mouse ID and Timepoint. \n",
    "report=mice.loc[mice.duplicated(subset=[\"Mouse ID\", \"Timepoint\"])]\n",
    "report"
   ]
  },
  {
   "cell_type": "code",
   "execution_count": 7,
   "metadata": {},
   "outputs": [
    {
     "data": {
      "text/html": [
       "<div>\n",
       "<style scoped>\n",
       "    .dataframe tbody tr th:only-of-type {\n",
       "        vertical-align: middle;\n",
       "    }\n",
       "\n",
       "    .dataframe tbody tr th {\n",
       "        vertical-align: top;\n",
       "    }\n",
       "\n",
       "    .dataframe thead th {\n",
       "        text-align: right;\n",
       "    }\n",
       "</style>\n",
       "<table border=\"1\" class=\"dataframe\">\n",
       "  <thead>\n",
       "    <tr style=\"text-align: right;\">\n",
       "      <th></th>\n",
       "      <th>Mouse ID</th>\n",
       "      <th>Timepoint</th>\n",
       "      <th>Tumor Volume (mm3)</th>\n",
       "      <th>Metastatic Sites</th>\n",
       "      <th>Drug Regimen</th>\n",
       "      <th>Sex</th>\n",
       "      <th>Age_months</th>\n",
       "      <th>Weight (g)</th>\n",
       "    </tr>\n",
       "  </thead>\n",
       "  <tbody>\n",
       "    <tr>\n",
       "      <th>860</th>\n",
       "      <td>g989</td>\n",
       "      <td>0</td>\n",
       "      <td>45.000000</td>\n",
       "      <td>0</td>\n",
       "      <td>Propriva</td>\n",
       "      <td>Female</td>\n",
       "      <td>21</td>\n",
       "      <td>26</td>\n",
       "    </tr>\n",
       "    <tr>\n",
       "      <th>861</th>\n",
       "      <td>g989</td>\n",
       "      <td>0</td>\n",
       "      <td>45.000000</td>\n",
       "      <td>0</td>\n",
       "      <td>Propriva</td>\n",
       "      <td>Female</td>\n",
       "      <td>21</td>\n",
       "      <td>26</td>\n",
       "    </tr>\n",
       "    <tr>\n",
       "      <th>862</th>\n",
       "      <td>g989</td>\n",
       "      <td>5</td>\n",
       "      <td>48.786801</td>\n",
       "      <td>0</td>\n",
       "      <td>Propriva</td>\n",
       "      <td>Female</td>\n",
       "      <td>21</td>\n",
       "      <td>26</td>\n",
       "    </tr>\n",
       "    <tr>\n",
       "      <th>863</th>\n",
       "      <td>g989</td>\n",
       "      <td>5</td>\n",
       "      <td>47.570392</td>\n",
       "      <td>0</td>\n",
       "      <td>Propriva</td>\n",
       "      <td>Female</td>\n",
       "      <td>21</td>\n",
       "      <td>26</td>\n",
       "    </tr>\n",
       "    <tr>\n",
       "      <th>864</th>\n",
       "      <td>g989</td>\n",
       "      <td>10</td>\n",
       "      <td>51.745156</td>\n",
       "      <td>0</td>\n",
       "      <td>Propriva</td>\n",
       "      <td>Female</td>\n",
       "      <td>21</td>\n",
       "      <td>26</td>\n",
       "    </tr>\n",
       "    <tr>\n",
       "      <th>865</th>\n",
       "      <td>g989</td>\n",
       "      <td>10</td>\n",
       "      <td>49.880528</td>\n",
       "      <td>0</td>\n",
       "      <td>Propriva</td>\n",
       "      <td>Female</td>\n",
       "      <td>21</td>\n",
       "      <td>26</td>\n",
       "    </tr>\n",
       "    <tr>\n",
       "      <th>866</th>\n",
       "      <td>g989</td>\n",
       "      <td>15</td>\n",
       "      <td>51.325852</td>\n",
       "      <td>1</td>\n",
       "      <td>Propriva</td>\n",
       "      <td>Female</td>\n",
       "      <td>21</td>\n",
       "      <td>26</td>\n",
       "    </tr>\n",
       "    <tr>\n",
       "      <th>867</th>\n",
       "      <td>g989</td>\n",
       "      <td>15</td>\n",
       "      <td>53.442020</td>\n",
       "      <td>0</td>\n",
       "      <td>Propriva</td>\n",
       "      <td>Female</td>\n",
       "      <td>21</td>\n",
       "      <td>26</td>\n",
       "    </tr>\n",
       "    <tr>\n",
       "      <th>868</th>\n",
       "      <td>g989</td>\n",
       "      <td>20</td>\n",
       "      <td>55.326122</td>\n",
       "      <td>1</td>\n",
       "      <td>Propriva</td>\n",
       "      <td>Female</td>\n",
       "      <td>21</td>\n",
       "      <td>26</td>\n",
       "    </tr>\n",
       "    <tr>\n",
       "      <th>869</th>\n",
       "      <td>g989</td>\n",
       "      <td>20</td>\n",
       "      <td>54.657650</td>\n",
       "      <td>1</td>\n",
       "      <td>Propriva</td>\n",
       "      <td>Female</td>\n",
       "      <td>21</td>\n",
       "      <td>26</td>\n",
       "    </tr>\n",
       "    <tr>\n",
       "      <th>870</th>\n",
       "      <td>g989</td>\n",
       "      <td>25</td>\n",
       "      <td>56.045564</td>\n",
       "      <td>1</td>\n",
       "      <td>Propriva</td>\n",
       "      <td>Female</td>\n",
       "      <td>21</td>\n",
       "      <td>26</td>\n",
       "    </tr>\n",
       "    <tr>\n",
       "      <th>871</th>\n",
       "      <td>g989</td>\n",
       "      <td>30</td>\n",
       "      <td>59.082294</td>\n",
       "      <td>1</td>\n",
       "      <td>Propriva</td>\n",
       "      <td>Female</td>\n",
       "      <td>21</td>\n",
       "      <td>26</td>\n",
       "    </tr>\n",
       "    <tr>\n",
       "      <th>872</th>\n",
       "      <td>g989</td>\n",
       "      <td>35</td>\n",
       "      <td>62.570880</td>\n",
       "      <td>2</td>\n",
       "      <td>Propriva</td>\n",
       "      <td>Female</td>\n",
       "      <td>21</td>\n",
       "      <td>26</td>\n",
       "    </tr>\n",
       "  </tbody>\n",
       "</table>\n",
       "</div>"
      ],
      "text/plain": [
       "    Mouse ID  Timepoint  Tumor Volume (mm3)  Metastatic Sites Drug Regimen  \\\n",
       "860     g989          0           45.000000                 0     Propriva   \n",
       "861     g989          0           45.000000                 0     Propriva   \n",
       "862     g989          5           48.786801                 0     Propriva   \n",
       "863     g989          5           47.570392                 0     Propriva   \n",
       "864     g989         10           51.745156                 0     Propriva   \n",
       "865     g989         10           49.880528                 0     Propriva   \n",
       "866     g989         15           51.325852                 1     Propriva   \n",
       "867     g989         15           53.442020                 0     Propriva   \n",
       "868     g989         20           55.326122                 1     Propriva   \n",
       "869     g989         20           54.657650                 1     Propriva   \n",
       "870     g989         25           56.045564                 1     Propriva   \n",
       "871     g989         30           59.082294                 1     Propriva   \n",
       "872     g989         35           62.570880                 2     Propriva   \n",
       "\n",
       "        Sex  Age_months  Weight (g)  \n",
       "860  Female          21          26  \n",
       "861  Female          21          26  \n",
       "862  Female          21          26  \n",
       "863  Female          21          26  \n",
       "864  Female          21          26  \n",
       "865  Female          21          26  \n",
       "866  Female          21          26  \n",
       "867  Female          21          26  \n",
       "868  Female          21          26  \n",
       "869  Female          21          26  \n",
       "870  Female          21          26  \n",
       "871  Female          21          26  \n",
       "872  Female          21          26  "
      ]
     },
     "execution_count": 7,
     "metadata": {},
     "output_type": "execute_result"
    }
   ],
   "source": [
    "# Optional: Get all the data for the duplicate mouse ID. \n",
    "mice.loc[mice[\"Mouse ID\"]==\"g989\"]"
   ]
  },
  {
   "cell_type": "code",
   "execution_count": 8,
   "metadata": {},
   "outputs": [
    {
     "data": {
      "text/html": [
       "<div>\n",
       "<style scoped>\n",
       "    .dataframe tbody tr th:only-of-type {\n",
       "        vertical-align: middle;\n",
       "    }\n",
       "\n",
       "    .dataframe tbody tr th {\n",
       "        vertical-align: top;\n",
       "    }\n",
       "\n",
       "    .dataframe thead th {\n",
       "        text-align: right;\n",
       "    }\n",
       "</style>\n",
       "<table border=\"1\" class=\"dataframe\">\n",
       "  <thead>\n",
       "    <tr style=\"text-align: right;\">\n",
       "      <th></th>\n",
       "      <th>Mouse ID</th>\n",
       "      <th>Timepoint</th>\n",
       "      <th>Tumor Volume (mm3)</th>\n",
       "      <th>Metastatic Sites</th>\n",
       "      <th>Drug Regimen</th>\n",
       "      <th>Sex</th>\n",
       "      <th>Age_months</th>\n",
       "      <th>Weight (g)</th>\n",
       "    </tr>\n",
       "  </thead>\n",
       "  <tbody>\n",
       "    <tr>\n",
       "      <th>0</th>\n",
       "      <td>b128</td>\n",
       "      <td>0</td>\n",
       "      <td>45.000000</td>\n",
       "      <td>0</td>\n",
       "      <td>Capomulin</td>\n",
       "      <td>Female</td>\n",
       "      <td>9</td>\n",
       "      <td>22</td>\n",
       "    </tr>\n",
       "    <tr>\n",
       "      <th>1</th>\n",
       "      <td>b128</td>\n",
       "      <td>5</td>\n",
       "      <td>45.651331</td>\n",
       "      <td>0</td>\n",
       "      <td>Capomulin</td>\n",
       "      <td>Female</td>\n",
       "      <td>9</td>\n",
       "      <td>22</td>\n",
       "    </tr>\n",
       "    <tr>\n",
       "      <th>2</th>\n",
       "      <td>b128</td>\n",
       "      <td>10</td>\n",
       "      <td>43.270852</td>\n",
       "      <td>0</td>\n",
       "      <td>Capomulin</td>\n",
       "      <td>Female</td>\n",
       "      <td>9</td>\n",
       "      <td>22</td>\n",
       "    </tr>\n",
       "    <tr>\n",
       "      <th>3</th>\n",
       "      <td>b128</td>\n",
       "      <td>15</td>\n",
       "      <td>43.784893</td>\n",
       "      <td>0</td>\n",
       "      <td>Capomulin</td>\n",
       "      <td>Female</td>\n",
       "      <td>9</td>\n",
       "      <td>22</td>\n",
       "    </tr>\n",
       "    <tr>\n",
       "      <th>4</th>\n",
       "      <td>b128</td>\n",
       "      <td>20</td>\n",
       "      <td>42.731552</td>\n",
       "      <td>0</td>\n",
       "      <td>Capomulin</td>\n",
       "      <td>Female</td>\n",
       "      <td>9</td>\n",
       "      <td>22</td>\n",
       "    </tr>\n",
       "    <tr>\n",
       "      <th>...</th>\n",
       "      <td>...</td>\n",
       "      <td>...</td>\n",
       "      <td>...</td>\n",
       "      <td>...</td>\n",
       "      <td>...</td>\n",
       "      <td>...</td>\n",
       "      <td>...</td>\n",
       "      <td>...</td>\n",
       "    </tr>\n",
       "    <tr>\n",
       "      <th>1888</th>\n",
       "      <td>m601</td>\n",
       "      <td>25</td>\n",
       "      <td>33.118756</td>\n",
       "      <td>1</td>\n",
       "      <td>Capomulin</td>\n",
       "      <td>Male</td>\n",
       "      <td>22</td>\n",
       "      <td>17</td>\n",
       "    </tr>\n",
       "    <tr>\n",
       "      <th>1889</th>\n",
       "      <td>m601</td>\n",
       "      <td>30</td>\n",
       "      <td>31.758275</td>\n",
       "      <td>1</td>\n",
       "      <td>Capomulin</td>\n",
       "      <td>Male</td>\n",
       "      <td>22</td>\n",
       "      <td>17</td>\n",
       "    </tr>\n",
       "    <tr>\n",
       "      <th>1890</th>\n",
       "      <td>m601</td>\n",
       "      <td>35</td>\n",
       "      <td>30.834357</td>\n",
       "      <td>1</td>\n",
       "      <td>Capomulin</td>\n",
       "      <td>Male</td>\n",
       "      <td>22</td>\n",
       "      <td>17</td>\n",
       "    </tr>\n",
       "    <tr>\n",
       "      <th>1891</th>\n",
       "      <td>m601</td>\n",
       "      <td>40</td>\n",
       "      <td>31.378045</td>\n",
       "      <td>1</td>\n",
       "      <td>Capomulin</td>\n",
       "      <td>Male</td>\n",
       "      <td>22</td>\n",
       "      <td>17</td>\n",
       "    </tr>\n",
       "    <tr>\n",
       "      <th>1892</th>\n",
       "      <td>m601</td>\n",
       "      <td>45</td>\n",
       "      <td>28.430964</td>\n",
       "      <td>1</td>\n",
       "      <td>Capomulin</td>\n",
       "      <td>Male</td>\n",
       "      <td>22</td>\n",
       "      <td>17</td>\n",
       "    </tr>\n",
       "  </tbody>\n",
       "</table>\n",
       "<p>1888 rows × 8 columns</p>\n",
       "</div>"
      ],
      "text/plain": [
       "     Mouse ID  Timepoint  Tumor Volume (mm3)  Metastatic Sites Drug Regimen  \\\n",
       "0        b128          0           45.000000                 0    Capomulin   \n",
       "1        b128          5           45.651331                 0    Capomulin   \n",
       "2        b128         10           43.270852                 0    Capomulin   \n",
       "3        b128         15           43.784893                 0    Capomulin   \n",
       "4        b128         20           42.731552                 0    Capomulin   \n",
       "...       ...        ...                 ...               ...          ...   \n",
       "1888     m601         25           33.118756                 1    Capomulin   \n",
       "1889     m601         30           31.758275                 1    Capomulin   \n",
       "1890     m601         35           30.834357                 1    Capomulin   \n",
       "1891     m601         40           31.378045                 1    Capomulin   \n",
       "1892     m601         45           28.430964                 1    Capomulin   \n",
       "\n",
       "         Sex  Age_months  Weight (g)  \n",
       "0     Female           9          22  \n",
       "1     Female           9          22  \n",
       "2     Female           9          22  \n",
       "3     Female           9          22  \n",
       "4     Female           9          22  \n",
       "...      ...         ...         ...  \n",
       "1888    Male          22          17  \n",
       "1889    Male          22          17  \n",
       "1890    Male          22          17  \n",
       "1891    Male          22          17  \n",
       "1892    Male          22          17  \n",
       "\n",
       "[1888 rows x 8 columns]"
      ]
     },
     "execution_count": 8,
     "metadata": {},
     "output_type": "execute_result"
    }
   ],
   "source": [
    "# Create a clean DataFrame by dropping the duplicate mouse by its ID.\n",
    "mice_clean=mice.drop_duplicates(subset=[\"Mouse ID\",\"Timepoint\"], inplace=False)\n",
    "mice_clean"
   ]
  },
  {
   "cell_type": "code",
   "execution_count": 9,
   "metadata": {},
   "outputs": [
    {
     "data": {
      "text/plain": [
       "249"
      ]
     },
     "execution_count": 9,
     "metadata": {},
     "output_type": "execute_result"
    }
   ],
   "source": [
    "# Checking the number of mice in the clean DataFrame.\n",
    "len(mice_clean[\"Mouse ID\"].unique())"
   ]
  },
  {
   "cell_type": "markdown",
   "metadata": {},
   "source": [
    "## Summary Statistics"
   ]
  },
  {
   "cell_type": "code",
   "execution_count": 10,
   "metadata": {},
   "outputs": [
    {
     "data": {
      "text/plain": [
       "array(['Capomulin', 'Ketapril', 'Naftisol', 'Infubinol', 'Stelasyn',\n",
       "       'Ramicane', 'Propriva', 'Zoniferol', 'Placebo', 'Ceftamin'],\n",
       "      dtype=object)"
      ]
     },
     "execution_count": 10,
     "metadata": {},
     "output_type": "execute_result"
    }
   ],
   "source": [
    "regimes=[]\n",
    "regimes=mice[\"Drug Regimen\"].unique()\n",
    "regimes"
   ]
  },
  {
   "cell_type": "code",
   "execution_count": 11,
   "metadata": {},
   "outputs": [
    {
     "data": {
      "text/html": [
       "<div>\n",
       "<style scoped>\n",
       "    .dataframe tbody tr th:only-of-type {\n",
       "        vertical-align: middle;\n",
       "    }\n",
       "\n",
       "    .dataframe tbody tr th {\n",
       "        vertical-align: top;\n",
       "    }\n",
       "\n",
       "    .dataframe thead th {\n",
       "        text-align: right;\n",
       "    }\n",
       "</style>\n",
       "<table border=\"1\" class=\"dataframe\">\n",
       "  <thead>\n",
       "    <tr style=\"text-align: right;\">\n",
       "      <th></th>\n",
       "      <th>Capomulin</th>\n",
       "      <th>Ceftamin</th>\n",
       "      <th>Infubinol</th>\n",
       "      <th>Ketapril</th>\n",
       "      <th>Naftisol</th>\n",
       "      <th>Placebo</th>\n",
       "      <th>Propriva</th>\n",
       "      <th>Ramicane</th>\n",
       "      <th>Stelasyn</th>\n",
       "      <th>Zoniferol</th>\n",
       "    </tr>\n",
       "  </thead>\n",
       "  <tbody>\n",
       "    <tr>\n",
       "      <th>Mean</th>\n",
       "      <td>40.675741</td>\n",
       "      <td>52.591172</td>\n",
       "      <td>52.884795</td>\n",
       "      <td>55.235638</td>\n",
       "      <td>54.331565</td>\n",
       "      <td>54.033581</td>\n",
       "      <td>52.393463</td>\n",
       "      <td>40.216745</td>\n",
       "      <td>54.233149</td>\n",
       "      <td>53.236507</td>\n",
       "    </tr>\n",
       "    <tr>\n",
       "      <th>Variance</th>\n",
       "      <td>24.839296</td>\n",
       "      <td>39.069446</td>\n",
       "      <td>42.886388</td>\n",
       "      <td>68.188930</td>\n",
       "      <td>65.817708</td>\n",
       "      <td>60.830138</td>\n",
       "      <td>42.862273</td>\n",
       "      <td>23.383692</td>\n",
       "      <td>59.122106</td>\n",
       "      <td>48.266689</td>\n",
       "    </tr>\n",
       "    <tr>\n",
       "      <th>Median</th>\n",
       "      <td>41.557809</td>\n",
       "      <td>51.776157</td>\n",
       "      <td>51.820584</td>\n",
       "      <td>53.698743</td>\n",
       "      <td>52.509285</td>\n",
       "      <td>52.288934</td>\n",
       "      <td>50.909965</td>\n",
       "      <td>40.673236</td>\n",
       "      <td>52.431737</td>\n",
       "      <td>51.818479</td>\n",
       "    </tr>\n",
       "    <tr>\n",
       "      <th>Std Dev</th>\n",
       "      <td>4.983904</td>\n",
       "      <td>6.250556</td>\n",
       "      <td>6.548770</td>\n",
       "      <td>8.257659</td>\n",
       "      <td>8.112811</td>\n",
       "      <td>7.799368</td>\n",
       "      <td>6.546928</td>\n",
       "      <td>4.835669</td>\n",
       "      <td>7.689090</td>\n",
       "      <td>6.947423</td>\n",
       "    </tr>\n",
       "    <tr>\n",
       "      <th>Std. Err. Mean</th>\n",
       "      <td>0.329346</td>\n",
       "      <td>0.469821</td>\n",
       "      <td>0.492236</td>\n",
       "      <td>0.603860</td>\n",
       "      <td>0.596466</td>\n",
       "      <td>0.581331</td>\n",
       "      <td>0.525862</td>\n",
       "      <td>0.320955</td>\n",
       "      <td>0.573111</td>\n",
       "      <td>0.516398</td>\n",
       "    </tr>\n",
       "  </tbody>\n",
       "</table>\n",
       "</div>"
      ],
      "text/plain": [
       "                Capomulin   Ceftamin  Infubinol   Ketapril   Naftisol  \\\n",
       "Mean            40.675741  52.591172  52.884795  55.235638  54.331565   \n",
       "Variance        24.839296  39.069446  42.886388  68.188930  65.817708   \n",
       "Median          41.557809  51.776157  51.820584  53.698743  52.509285   \n",
       "Std Dev          4.983904   6.250556   6.548770   8.257659   8.112811   \n",
       "Std. Err. Mean   0.329346   0.469821   0.492236   0.603860   0.596466   \n",
       "\n",
       "                  Placebo   Propriva   Ramicane   Stelasyn  Zoniferol  \n",
       "Mean            54.033581  52.393463  40.216745  54.233149  53.236507  \n",
       "Variance        60.830138  42.862273  23.383692  59.122106  48.266689  \n",
       "Median          52.288934  50.909965  40.673236  52.431737  51.818479  \n",
       "Std Dev          7.799368   6.546928   4.835669   7.689090   6.947423  \n",
       "Std. Err. Mean   0.581331   0.525862   0.320955   0.573111   0.516398  "
      ]
     },
     "execution_count": 11,
     "metadata": {},
     "output_type": "execute_result"
    }
   ],
   "source": [
    "# Generate a summary statistics table of mean, median, variance, standard deviation, and SEM of the tumor volume for each regimen\n",
    "\n",
    "# Create a DF for each regime\n",
    "Capomulin_df=mice_clean.loc[mice_clean[\"Drug Regimen\"]==\"Capomulin\"]\n",
    "Ketapril_df=mice_clean.loc[mice_clean[\"Drug Regimen\"]==\"Ketapril\"]\n",
    "Naftisol_df=mice_clean.loc[mice_clean[\"Drug Regimen\"]==\"Naftisol\"]\n",
    "Infubinol_df=mice_clean.loc[mice_clean[\"Drug Regimen\"]==\"Infubinol\"]\n",
    "Stelasyn_df=mice_clean.loc[mice_clean[\"Drug Regimen\"]==\"Stelasyn\"]\n",
    "Ramicane_df=mice_clean.loc[mice_clean[\"Drug Regimen\"]==\"Ramicane\"]\n",
    "Propriva_df=mice_clean.loc[mice_clean[\"Drug Regimen\"]==\"Propriva\"]\n",
    "Zoniferol_df=mice_clean.loc[mice_clean[\"Drug Regimen\"]==\"Zoniferol\"]\n",
    "Placebo_df=mice_clean.loc[mice_clean[\"Drug Regimen\"]==\"Placebo\"]\n",
    "Ceftamin_df=mice_clean.loc[mice_clean[\"Drug Regimen\"]==\"Ceftamin\"]\n",
    "\n",
    "\n",
    "# Stick to Tumor size column and Mouse ID only\n",
    "Capomulin_df=Capomulin_df.drop(['Timepoint', 'Metastatic Sites', 'Drug Regimen', 'Sex', 'Age_months', 'Weight (g)'], axis=1)\n",
    "Ceftamin_df=Ceftamin_df.drop(['Timepoint', 'Metastatic Sites', 'Drug Regimen', 'Sex', 'Age_months', 'Weight (g)'], axis=1)\n",
    "Infubinol_df=Infubinol_df.drop(['Timepoint', 'Metastatic Sites', 'Drug Regimen', 'Sex', 'Age_months', 'Weight (g)'], axis=1)\n",
    "Ketapril_df=Ketapril_df.drop(['Timepoint', 'Metastatic Sites', 'Drug Regimen', 'Sex', 'Age_months', 'Weight (g)'], axis=1)\n",
    "Naftisol_df=Naftisol_df.drop(['Timepoint', 'Metastatic Sites', 'Drug Regimen', 'Sex', 'Age_months', 'Weight (g)'], axis=1)\n",
    "Placebo_df=Placebo_df.drop(['Timepoint', 'Metastatic Sites', 'Drug Regimen', 'Sex', 'Age_months', 'Weight (g)'], axis=1)\n",
    "Propriva_df=Propriva_df.drop(['Timepoint', 'Metastatic Sites', 'Drug Regimen', 'Sex', 'Age_months', 'Weight (g)'], axis=1)\n",
    "Ramicane_df=Ramicane_df.drop(['Timepoint', 'Metastatic Sites', 'Drug Regimen', 'Sex', 'Age_months', 'Weight (g)'], axis=1)\n",
    "Stelasyn_df=Stelasyn_df.drop(['Timepoint', 'Metastatic Sites', 'Drug Regimen', 'Sex', 'Age_months', 'Weight (g)'], axis=1)\n",
    "Zoniferol_df=Zoniferol_df.drop(['Timepoint', 'Metastatic Sites', 'Drug Regimen', 'Sex', 'Age_months', 'Weight (g)'], axis=1)\n",
    "\n",
    "\n",
    "# Order for Median calculation\n",
    "Placebo_df.sort_values(axis=0, by='Tumor Volume (mm3)')\n",
    "Propriva_df.sort_values(axis=0, by='Tumor Volume (mm3)')\n",
    "Infubinol_df.sort_values(axis=0, by='Tumor Volume (mm3)')\n",
    "Ketapril_df.sort_values(axis=0, by='Tumor Volume (mm3)')\n",
    "Capomulin_df.sort_values(axis=0, by='Tumor Volume (mm3)')\n",
    "Ceftamin_df.sort_values(axis=0, by='Tumor Volume (mm3)')\n",
    "Naftisol_df.sort_values(axis=0, by='Tumor Volume (mm3)')\n",
    "Ramicane_df.sort_values(axis=0, by='Tumor Volume (mm3)')\n",
    "Stelasyn_df.sort_values(axis=0, by='Tumor Volume (mm3)')\n",
    "Zoniferol_df.sort_values(axis=0, by='Tumor Volume (mm3)')\n",
    "\n",
    "# Dictionary for each calculation\n",
    "Mean={\n",
    "'Capomulin': np.mean(Capomulin_df['Tumor Volume (mm3)']),\n",
    "'Ceftamin': np.mean(Ceftamin_df['Tumor Volume (mm3)']),\n",
    "'Infubinol': np.mean(Infubinol_df['Tumor Volume (mm3)']),\n",
    "'Ketapril': np.mean(Ketapril_df['Tumor Volume (mm3)']),\n",
    "'Naftisol': np.mean(Naftisol_df['Tumor Volume (mm3)']),\n",
    "'Placebo': np.mean(Placebo_df['Tumor Volume (mm3)']),\n",
    "'Propriva': np.mean(Propriva_df['Tumor Volume (mm3)']),\n",
    "'Ramicane': np.mean(Ramicane_df['Tumor Volume (mm3)']),\n",
    "'Stelasyn': np.mean(Stelasyn_df['Tumor Volume (mm3)']),\n",
    "'Zoniferol': np.mean(Zoniferol_df['Tumor Volume (mm3)'])}\n",
    "\n",
    "Median={\n",
    "'Capomulin': np.median(Capomulin_df['Tumor Volume (mm3)']),\n",
    "'Ceftamin': np.median(Ceftamin_df['Tumor Volume (mm3)']),\n",
    "'Infubinol': np.median(Infubinol_df['Tumor Volume (mm3)']),\n",
    "'Ketapril': np.median(Ketapril_df['Tumor Volume (mm3)']),\n",
    "'Naftisol': np.median(Naftisol_df['Tumor Volume (mm3)']),\n",
    "'Placebo': np.median(Placebo_df['Tumor Volume (mm3)']),\n",
    "'Propriva': np.median(Propriva_df['Tumor Volume (mm3)']),\n",
    "'Ramicane': np.median(Ramicane_df['Tumor Volume (mm3)']),\n",
    "'Stelasyn': np.median(Stelasyn_df['Tumor Volume (mm3)']),\n",
    "'Zoniferol': np.median(Zoniferol_df['Tumor Volume (mm3)'])}\n",
    "\n",
    "Var={\n",
    "'Capomulin': np.var(Capomulin_df['Tumor Volume (mm3)']),\n",
    "'Ceftamin': np.var(Ceftamin_df['Tumor Volume (mm3)']),\n",
    "'Infubinol': np.var(Infubinol_df['Tumor Volume (mm3)']),\n",
    "'Ketapril': np.var(Ketapril_df['Tumor Volume (mm3)']),\n",
    "'Naftisol': np.var(Naftisol_df['Tumor Volume (mm3)']),\n",
    "'Placebo': np.var(Placebo_df['Tumor Volume (mm3)']),\n",
    "'Propriva': np.var(Propriva_df['Tumor Volume (mm3)']),\n",
    "'Ramicane': np.var(Ramicane_df['Tumor Volume (mm3)']),\n",
    "'Stelasyn': np.var(Stelasyn_df['Tumor Volume (mm3)']),\n",
    "'Zoniferol': np.var(Zoniferol_df['Tumor Volume (mm3)'])}\n",
    "\n",
    "STD={\n",
    "'Capomulin': np.std(Capomulin_df['Tumor Volume (mm3)']),\n",
    "'Ceftamin': np.std(Ceftamin_df['Tumor Volume (mm3)']),\n",
    "'Infubinol': np.std(Infubinol_df['Tumor Volume (mm3)']),\n",
    "'Ketapril': np.std(Ketapril_df['Tumor Volume (mm3)']),\n",
    "'Naftisol': np.std(Naftisol_df['Tumor Volume (mm3)']),\n",
    "'Placebo': np.std(Placebo_df['Tumor Volume (mm3)']),\n",
    "'Propriva': np.std(Propriva_df['Tumor Volume (mm3)']),\n",
    "'Ramicane': np.std(Ramicane_df['Tumor Volume (mm3)']),\n",
    "'Stelasyn': np.std(Stelasyn_df['Tumor Volume (mm3)']),\n",
    "'Zoniferol': np.std(Zoniferol_df['Tumor Volume (mm3)'])}\n",
    "\n",
    "SEM={\n",
    "'Capomulin': st.sem(Capomulin_df['Tumor Volume (mm3)']),\n",
    "'Ceftamin': st.sem(Ceftamin_df['Tumor Volume (mm3)']),\n",
    "'Infubinol': st.sem(Infubinol_df['Tumor Volume (mm3)']),\n",
    "'Ketapril': st.sem(Ketapril_df['Tumor Volume (mm3)']),\n",
    "'Naftisol': st.sem(Naftisol_df['Tumor Volume (mm3)']),\n",
    "'Placebo': st.sem(Placebo_df['Tumor Volume (mm3)']),\n",
    "'Propriva': st.sem(Propriva_df['Tumor Volume (mm3)']),\n",
    "'Ramicane': st.sem(Ramicane_df['Tumor Volume (mm3)']),\n",
    "'Stelasyn': st.sem(Stelasyn_df['Tumor Volume (mm3)']),\n",
    "'Zoniferol': st.sem(Zoniferol_df['Tumor Volume (mm3)'])}\n",
    "\n",
    "\n",
    "Summary=pd.DataFrame(data=(Mean, Var, Median, STD, SEM), index=['Mean', 'Variance', 'Median', 'Std Dev', 'Std. Err. Mean'])\n",
    "\n",
    "Summary\n",
    "\n",
    "# This method is the most straighforward, creating multiple series and putting them all together at the end."
   ]
  },
  {
   "cell_type": "markdown",
   "metadata": {},
   "source": [
    "## Bar Plots"
   ]
  },
  {
   "cell_type": "code",
   "execution_count": 12,
   "metadata": {},
   "outputs": [],
   "source": [
    "# Re defining DF for plot usage\n",
    "\n",
    "Capomulin_df=mice_clean.loc[mice_clean[\"Drug Regimen\"]==\"Capomulin\"]\n",
    "Ketapril_df=mice_clean.loc[mice_clean[\"Drug Regimen\"]==\"Ketapril\"]\n",
    "Naftisol_df=mice_clean.loc[mice_clean[\"Drug Regimen\"]==\"Naftisol\"]\n",
    "Infubinol_df=mice_clean.loc[mice_clean[\"Drug Regimen\"]==\"Infubinol\"]\n",
    "Stelasyn_df=mice_clean.loc[mice_clean[\"Drug Regimen\"]==\"Stelasyn\"]\n",
    "Ramicane_df=mice_clean.loc[mice_clean[\"Drug Regimen\"]==\"Ramicane\"]\n",
    "Propriva_df=mice_clean.loc[mice_clean[\"Drug Regimen\"]==\"Propriva\"]\n",
    "Zoniferol_df=mice_clean.loc[mice_clean[\"Drug Regimen\"]==\"Zoniferol\"]\n",
    "Placebo_df=mice_clean.loc[mice_clean[\"Drug Regimen\"]==\"Placebo\"]\n",
    "Ceftamin_df=mice_clean.loc[mice_clean[\"Drug Regimen\"]==\"Ceftamin\"]"
   ]
  },
  {
   "cell_type": "code",
   "execution_count": 13,
   "metadata": {},
   "outputs": [],
   "source": [
    "# Creating groupby object for plot calculation\n",
    "\n",
    "Capomulin_df=Capomulin_df.groupby(\"Timepoint\")[\"Mouse ID\"].count().to_frame()\n",
    "Ceftamin_df=Ceftamin_df.groupby('Timepoint')['Mouse ID'].count().to_frame()\n",
    "Infubinol_df=Infubinol_df.groupby('Timepoint')['Mouse ID'].count().to_frame()\n",
    "Ketapril_df=Ketapril_df.groupby('Timepoint')['Mouse ID'].count().to_frame()\n",
    "Naftisol_df=Naftisol_df.groupby('Timepoint')['Mouse ID'].count().to_frame()\n",
    "Placebo_df=Placebo_df.groupby('Timepoint')['Mouse ID'].count().to_frame()\n",
    "Propriva_df=Propriva_df.groupby('Timepoint')['Mouse ID'].count().to_frame()\n",
    "Ramicane_df=Ramicane_df.groupby('Timepoint')['Mouse ID'].count().to_frame()\n",
    "Stelasyn_df=Stelasyn_df.groupby('Timepoint')['Mouse ID'].count().to_frame()\n",
    "Zoniferol_df=Zoniferol_df.groupby('Timepoint')['Mouse ID'].count().to_frame()\n"
   ]
  },
  {
   "cell_type": "code",
   "execution_count": 14,
   "metadata": {},
   "outputs": [
    {
     "data": {
      "image/png": "[encoded data removed]",
      "text/plain": [
       "<Figure size 432x288 with 1 Axes>"
      ]
     },
     "metadata": {
      "needs_background": "light"
     },
     "output_type": "display_data"
    }
   ],
   "source": [
    "# Generate a bar plot showing the number of mice per time point for each treatment throughout the course of the study using pandas.\n",
    "Capomulin_df.plot(kind=\"bar\")\n",
    "plt.ylabel(\"Mice count\")\n",
    "plt.title(\"Treatment with Capomulin\")\n",
    "plt.show()"
   ]
  },
  {
   "cell_type": "code",
   "execution_count": 15,
   "metadata": {},
   "outputs": [
    {
     "data": {
      "image/png": "[encoded data removed]",
      "text/plain": [
       "<Figure size 432x288 with 1 Axes>"
      ]
     },
     "metadata": {
      "needs_background": "light"
     },
     "output_type": "display_data"
    }
   ],
   "source": [
    "Ceftamin_df.plot(kind='bar')\n",
    "plt.ylabel('Mice count')\n",
    "plt.title('Treatment with Ceftamin')\n",
    "plt.show()"
   ]
  },
  {
   "cell_type": "code",
   "execution_count": 16,
   "metadata": {},
   "outputs": [
    {
     "data": {
      "image/png": "[encoded data removed]",
      "text/plain": [
       "<Figure size 432x288 with 1 Axes>"
      ]
     },
     "metadata": {
      "needs_background": "light"
     },
     "output_type": "display_data"
    }
   ],
   "source": [
    "Infubinol_df.plot(kind='bar')\n",
    "plt.ylabel('Mice count')\n",
    "plt.title('Treatment with Infubinol')\n",
    "plt.show()"
   ]
  },
  {
   "cell_type": "code",
   "execution_count": 17,
   "metadata": {},
   "outputs": [
    {
     "data": {
      "image/png": "[encoded data removed]",
      "text/plain": [
       "<Figure size 432x288 with 1 Axes>"
      ]
     },
     "metadata": {
      "needs_background": "light"
     },
     "output_type": "display_data"
    }
   ],
   "source": [
    "Ketapril_df.plot(kind='bar')\n",
    "plt.ylabel('Mice count')\n",
    "plt.title('Treatment with Ketapril')\n",
    "plt.show()\n"
   ]
  },
  {
   "cell_type": "code",
   "execution_count": 18,
   "metadata": {},
   "outputs": [
    {
     "data": {
      "image/png": "[encoded data removed]",
      "text/plain": [
       "<Figure size 432x288 with 1 Axes>"
      ]
     },
     "metadata": {
      "needs_background": "light"
     },
     "output_type": "display_data"
    }
   ],
   "source": [
    "Naftisol_df.plot(kind='bar')\n",
    "plt.ylabel('Mice count')\n",
    "plt.title('Treatment with Naftisol')\n",
    "plt.show()\n"
   ]
  },
  {
   "cell_type": "code",
   "execution_count": 19,
   "metadata": {},
   "outputs": [
    {
     "data": {
      "image/png": "[encoded data removed]",
      "text/plain": [
       "<Figure size 432x288 with 1 Axes>"
      ]
     },
     "metadata": {
      "needs_background": "light"
     },
     "output_type": "display_data"
    }
   ],
   "source": [
    "Placebo_df.plot(kind='bar')\n",
    "plt.ylabel('Mice count')\n",
    "plt.title('Treatment with Placebo')\n",
    "plt.show()\n"
   ]
  },
  {
   "cell_type": "code",
   "execution_count": 20,
   "metadata": {},
   "outputs": [
    {
     "data": {
      "image/png": "[encoded data removed]",
      "text/plain": [
       "<Figure size 432x288 with 1 Axes>"
      ]
     },
     "metadata": {
      "needs_background": "light"
     },
     "output_type": "display_data"
    }
   ],
   "source": [
    "Propriva_df.plot(kind='bar')\n",
    "plt.ylabel('Mice count')\n",
    "plt.title('Treatment with Propriva')\n",
    "plt.show()\n"
   ]
  },
  {
   "cell_type": "code",
   "execution_count": 21,
   "metadata": {},
   "outputs": [
    {
     "data": {
      "image/png": "[encoded data removed]",
      "text/plain": [
       "<Figure size 432x288 with 1 Axes>"
      ]
     },
     "metadata": {
      "needs_background": "light"
     },
     "output_type": "display_data"
    }
   ],
   "source": [
    "Ramicane_df.plot(kind='bar')\n",
    "plt.ylabel('Mice count')\n",
    "plt.title('Treatment with Ramicane')\n",
    "plt.show()\n"
   ]
  },
  {
   "cell_type": "code",
   "execution_count": 22,
   "metadata": {},
   "outputs": [
    {
     "data": {
      "image/png": "[encoded data removed]",
      "text/plain": [
       "<Figure size 432x288 with 1 Axes>"
      ]
     },
     "metadata": {
      "needs_background": "light"
     },
     "output_type": "display_data"
    }
   ],
   "source": [
    "Stelasyn_df.plot(kind='bar')\n",
    "plt.ylabel('Mice count')\n",
    "plt.title('Treatment with Stelasyn')\n",
    "plt.show()\n"
   ]
  },
  {
   "cell_type": "code",
   "execution_count": 23,
   "metadata": {},
   "outputs": [
    {
     "data": {
      "image/png": "[encoded data removed]",
      "text/plain": [
       "<Figure size 432x288 with 1 Axes>"
      ]
     },
     "metadata": {
      "needs_background": "light"
     },
     "output_type": "display_data"
    }
   ],
   "source": [
    "Zoniferol_df.plot(kind='bar')\n",
    "plt.ylabel('Mice count')\n",
    "plt.title('Treatment with Zoniferol')\n",
    "plt.show()\n"
   ]
  },
  {
   "cell_type": "code",
   "execution_count": 24,
   "metadata": {},
   "outputs": [
    {
     "data": {
      "image/png": "[encoded data removed]",
      "text/plain": [
       "<Figure size 432x288 with 1 Axes>"
      ]
     },
     "metadata": {
      "needs_background": "light"
     },
     "output_type": "display_data"
    }
   ],
   "source": [
    "# Generate a bar plot showing the number of mice per time point for each treatment throughout the course of the study using pyplot.\n",
    "\n",
    "plt.bar(np.arange(0,50,5), Capomulin_df[\"Mouse ID\"], width=2, color=\"coral\")\n",
    "plt.xlabel(\"Timepoint\")\n",
    "plt.xticks([0,5,10,15,20,25,30,35,40,45])\n",
    "plt.ylabel(\"Mice count\")\n",
    "plt.title(\"Treatment with Capomulin\")\n",
    "plt.show()\n"
   ]
  },
  {
   "cell_type": "code",
   "execution_count": 25,
   "metadata": {},
   "outputs": [
    {
     "data": {
      "image/png": "[encoded data removed]",
      "text/plain": [
       "<Figure size 432x288 with 1 Axes>"
      ]
     },
     "metadata": {
      "needs_background": "light"
     },
     "output_type": "display_data"
    }
   ],
   "source": [
    "plt.bar(np.arange(0,50,5), Ceftamin_df['Mouse ID'], width=2, color='coral')\n",
    "plt.xlabel(\"Timepoint\")\n",
    "plt.xticks([0,5,10,15,20,25,30,35,40,45])\n",
    "plt.ylabel(\"Mice count\")\n",
    "plt.title('Treatment with Ceftamin')\n",
    "plt.show()\n"
   ]
  },
  {
   "cell_type": "code",
   "execution_count": 26,
   "metadata": {},
   "outputs": [
    {
     "data": {
      "image/png": "[encoded data removed]",
      "text/plain": [
       "<Figure size 432x288 with 1 Axes>"
      ]
     },
     "metadata": {
      "needs_background": "light"
     },
     "output_type": "display_data"
    }
   ],
   "source": [
    "plt.bar(np.arange(0,50,5), Infubinol_df['Mouse ID'], width=2, color='coral')\n",
    "plt.xlabel(\"Timepoint\")\n",
    "plt.xticks([0,5,10,15,20,25,30,35,40,45])\n",
    "plt.ylabel(\"Mice count\")\n",
    "plt.title('Treatment with Infubinol')\n",
    "plt.show()\n"
   ]
  },
  {
   "cell_type": "code",
   "execution_count": 27,
   "metadata": {},
   "outputs": [
    {
     "data": {
      "image/png": "[encoded data removed]",
      "text/plain": [
       "<Figure size 432x288 with 1 Axes>"
      ]
     },
     "metadata": {
      "needs_background": "light"
     },
     "output_type": "display_data"
    }
   ],
   "source": [
    "plt.bar(np.arange(0,50,5), Ketapril_df['Mouse ID'], width=2, color='coral')\n",
    "plt.xlabel(\"Timepoint\")\n",
    "plt.xticks([0,5,10,15,20,25,30,35,40,45])\n",
    "plt.ylabel(\"Mice count\")\n",
    "plt.title('Treatment with Ketapril')\n",
    "plt.show()\n"
   ]
  },
  {
   "cell_type": "code",
   "execution_count": 28,
   "metadata": {},
   "outputs": [
    {
     "data": {
      "image/png": "[encoded data removed]",
      "text/plain": [
       "<Figure size 432x288 with 1 Axes>"
      ]
     },
     "metadata": {
      "needs_background": "light"
     },
     "output_type": "display_data"
    }
   ],
   "source": [
    "plt.bar(np.arange(0,50,5), Naftisol_df['Mouse ID'], width=2, color='coral')\n",
    "plt.xlabel(\"Timepoint\")\n",
    "plt.xticks([0,5,10,15,20,25,30,35,40,45])\n",
    "plt.ylabel(\"Mice count\")\n",
    "plt.title('Treatment with Naftisol')\n",
    "plt.show()\n"
   ]
  },
  {
   "cell_type": "code",
   "execution_count": 29,
   "metadata": {},
   "outputs": [
    {
     "data": {
      "image/png": "[encoded data removed]",
      "text/plain": [
       "<Figure size 432x288 with 1 Axes>"
      ]
     },
     "metadata": {
      "needs_background": "light"
     },
     "output_type": "display_data"
    }
   ],
   "source": [
    "plt.bar(np.arange(0,50,5), Placebo_df['Mouse ID'], width=2, color='coral')\n",
    "plt.xlabel(\"Timepoint\")\n",
    "plt.xticks([0,5,10,15,20,25,30,35,40,45])\n",
    "plt.ylabel(\"Mice count\")\n",
    "plt.title('Treatment with Placebo')\n",
    "plt.show()\n"
   ]
  },
  {
   "cell_type": "code",
   "execution_count": 30,
   "metadata": {},
   "outputs": [
    {
     "data": {
      "image/png": "[encoded data removed]",
      "text/plain": [
       "<Figure size 432x288 with 1 Axes>"
      ]
     },
     "metadata": {
      "needs_background": "light"
     },
     "output_type": "display_data"
    }
   ],
   "source": [
    "plt.bar(np.arange(0,50,5), Propriva_df['Mouse ID'], width=2, color='coral')\n",
    "plt.xlabel(\"Timepoint\")\n",
    "plt.xticks([0,5,10,15,20,25,30,35,40,45])\n",
    "plt.ylabel(\"Mice count\")\n",
    "plt.title('Treatment with Propriva')\n",
    "plt.show()\n"
   ]
  },
  {
   "cell_type": "code",
   "execution_count": 31,
   "metadata": {},
   "outputs": [
    {
     "data": {
      "image/png": "[encoded data removed]",
      "text/plain": [
       "<Figure size 432x288 with 1 Axes>"
      ]
     },
     "metadata": {
      "needs_background": "light"
     },
     "output_type": "display_data"
    }
   ],
   "source": [
    "plt.bar(np.arange(0,50,5), Ramicane_df['Mouse ID'], width=2, color='coral')\n",
    "plt.xlabel(\"Timepoint\")\n",
    "plt.xticks([0,5,10,15,20,25,30,35,40,45])\n",
    "plt.ylabel(\"Mice count\")\n",
    "plt.title('Treatment with Ramicane')\n",
    "plt.show()\n"
   ]
  },
  {
   "cell_type": "code",
   "execution_count": 32,
   "metadata": {},
   "outputs": [
    {
     "data": {
      "image/png": "[encoded data removed]",
      "text/plain": [
       "<Figure size 432x288 with 1 Axes>"
      ]
     },
     "metadata": {
      "needs_background": "light"
     },
     "output_type": "display_data"
    }
   ],
   "source": [
    "plt.bar(np.arange(0,50,5), Stelasyn_df['Mouse ID'], width=2, color='coral')\n",
    "plt.xlabel(\"Timepoint\")\n",
    "plt.xticks([0,5,10,15,20,25,30,35,40,45])\n",
    "plt.ylabel(\"Mice count\")\n",
    "plt.title('Treatment with Stelasyn')\n",
    "plt.show()\n"
   ]
  },
  {
   "cell_type": "code",
   "execution_count": 33,
   "metadata": {},
   "outputs": [
    {
     "data": {
      "image/png": "[encoded data removed]",
      "text/plain": [
       "<Figure size 432x288 with 1 Axes>"
      ]
     },
     "metadata": {
      "needs_background": "light"
     },
     "output_type": "display_data"
    }
   ],
   "source": [
    "plt.bar(np.arange(0,50,5), Zoniferol_df['Mouse ID'], width=2, color='coral')\n",
    "plt.xlabel(\"Timepoint\")\n",
    "plt.xticks([0,5,10,15,20,25,30,35,40,45])\n",
    "plt.ylabel(\"Mice count\")\n",
    "plt.title('Treatment with Zoniferol')\n",
    "plt.show()\n"
   ]
  },
  {
   "cell_type": "markdown",
   "metadata": {},
   "source": [
    "## Pie Plots"
   ]
  },
  {
   "cell_type": "code",
   "execution_count": 34,
   "metadata": {},
   "outputs": [
    {
     "data": {
      "text/html": [
       "<div>\n",
       "<style scoped>\n",
       "    .dataframe tbody tr th:only-of-type {\n",
       "        vertical-align: middle;\n",
       "    }\n",
       "\n",
       "    .dataframe tbody tr th {\n",
       "        vertical-align: top;\n",
       "    }\n",
       "\n",
       "    .dataframe thead th {\n",
       "        text-align: right;\n",
       "    }\n",
       "</style>\n",
       "<table border=\"1\" class=\"dataframe\">\n",
       "  <thead>\n",
       "    <tr style=\"text-align: right;\">\n",
       "      <th></th>\n",
       "      <th>Mouse ID</th>\n",
       "    </tr>\n",
       "    <tr>\n",
       "      <th>Sex</th>\n",
       "      <th></th>\n",
       "    </tr>\n",
       "  </thead>\n",
       "  <tbody>\n",
       "    <tr>\n",
       "      <th>Female</th>\n",
       "      <td>124</td>\n",
       "    </tr>\n",
       "    <tr>\n",
       "      <th>Male</th>\n",
       "      <td>125</td>\n",
       "    </tr>\n",
       "  </tbody>\n",
       "</table>\n",
       "</div>"
      ],
      "text/plain": [
       "        Mouse ID\n",
       "Sex             \n",
       "Female       124\n",
       "Male         125"
      ]
     },
     "execution_count": 34,
     "metadata": {},
     "output_type": "execute_result"
    }
   ],
   "source": [
    "ID_df=pd.DataFrame(mice_clean[\"Mouse ID\"])\n",
    "Sex_df=pd.DataFrame(mice_clean[\"Sex\"])\n",
    "ID_df=ID_df.join(Sex_df, how=\"outer\")\n",
    "ID_df=ID_df.drop_duplicates(subset=[\"Mouse ID\"], inplace=False)\n",
    "ID_df=ID_df.groupby(\"Sex\").count()\n",
    "ID_df"
   ]
  },
  {
   "cell_type": "code",
   "execution_count": 35,
   "metadata": {},
   "outputs": [
    {
     "data": {
      "image/png": "[encoded data removed]",
      "text/plain": [
       "<Figure size 432x288 with 1 Axes>"
      ]
     },
     "metadata": {},
     "output_type": "display_data"
    }
   ],
   "source": [
    "# Generate a pie plot showing the distribution of female versus male mice using pandas\n",
    "ID_df.plot(kind=\"pie\", y=\"Mouse ID\", autopct='%1.1f%%')\n",
    "\n",
    "plt.show()\n"
   ]
  },
  {
   "cell_type": "code",
   "execution_count": 36,
   "metadata": {},
   "outputs": [
    {
     "data": {
      "image/png": "[encoded data removed]",
      "text/plain": [
       "<Figure size 432x288 with 1 Axes>"
      ]
     },
     "metadata": {},
     "output_type": "display_data"
    }
   ],
   "source": [
    "# Generate a pie plot showing the distribution of female versus male mice using pyplot\n",
    "plt.pie(ID_df[\"Mouse ID\"], explode=[0.1, 0], autopct='%1.1f%%', colors=[\"pink\", \"blue\"], labels=[\"Female\", \"Male\"])\n",
    "\n",
    "plt.title(\"Distribution by sex\")\n",
    "plt.show()\n"
   ]
  },
  {
   "cell_type": "markdown",
   "metadata": {},
   "source": [
    "## Quartiles, Outliers and Boxplots"
   ]
  },
  {
   "cell_type": "code",
   "execution_count": 37,
   "metadata": {},
   "outputs": [
    {
     "name": "stdout",
     "output_type": "stream",
     "text": [
      "The IQR are (Capomulin, Ramicane, Infubinol, Ceftamin):\n",
      "7.781863460000004 7.527130082499998 4.9311172099999965 6.093590140000003\n"
     ]
    }
   ],
   "source": [
    "# Re defining DF for plot usage\n",
    "\n",
    "Capomulin_df=mice_clean.loc[mice_clean[\"Drug Regimen\"]==\"Capomulin\"]\n",
    "Ketapril_df=mice_clean.loc[mice_clean[\"Drug Regimen\"]==\"Ketapril\"]\n",
    "Naftisol_df=mice_clean.loc[mice_clean[\"Drug Regimen\"]==\"Naftisol\"]\n",
    "Infubinol_df=mice_clean.loc[mice_clean[\"Drug Regimen\"]==\"Infubinol\"]\n",
    "Stelasyn_df=mice_clean.loc[mice_clean[\"Drug Regimen\"]==\"Stelasyn\"]\n",
    "Ramicane_df=mice_clean.loc[mice_clean[\"Drug Regimen\"]==\"Ramicane\"]\n",
    "Propriva_df=mice_clean.loc[mice_clean[\"Drug Regimen\"]==\"Propriva\"]\n",
    "Zoniferol_df=mice_clean.loc[mice_clean[\"Drug Regimen\"]==\"Zoniferol\"]\n",
    "Placebo_df=mice_clean.loc[mice_clean[\"Drug Regimen\"]==\"Placebo\"]\n",
    "Ceftamin_df=mice_clean.loc[mice_clean[\"Drug Regimen\"]==\"Ceftamin\"]\n",
    "\n",
    "Capomulin_df=Capomulin_df.loc[Capomulin_df[\"Timepoint\"]==45]\n",
    "Ketapril_df=Ketapril_df.loc[Ketapril_df[\"Timepoint\"]==45]\n",
    "Naftisol_df=Naftisol_df.loc[Naftisol_df[\"Timepoint\"]==45]\n",
    "Infubinol_df=Infubinol_df.loc[Infubinol_df[\"Timepoint\"]==45]\n",
    "Stelasyn_df=Stelasyn_df.loc[Stelasyn_df[\"Timepoint\"]==45]\n",
    "Ramicane_df=Ramicane_df.loc[Ramicane_df[\"Timepoint\"]==45]\n",
    "Propriva_df=Propriva_df.loc[Propriva_df[\"Timepoint\"]==45]\n",
    "Zoniferol_df=Zoniferol_df.loc[Zoniferol_df[\"Timepoint\"]==45]\n",
    "Placebo_df=Placebo_df.loc[Placebo_df[\"Timepoint\"]==45]\n",
    "Ceftamin_df=Ceftamin_df.loc[mice_clean[\"Timepoint\"]==45]\n",
    "\n",
    "# Calculation for IQR\n",
    "\n",
    "Capomulin_df.sort_values(axis=0, by='Tumor Volume (mm3)')\n",
    "Ramicane_df.sort_values(axis=0, by='Tumor Volume (mm3)')\n",
    "Infubinol_df.sort_values(axis=0, by='Tumor Volume (mm3)')\n",
    "Ceftamin_df.sort_values(axis=0, by='Tumor Volume (mm3)')\n",
    "\n",
    "\n",
    "# Calculation for quartiles\n",
    "Capomulin_quart=Capomulin_df[\"Tumor Volume (mm3)\"].quantile([0.25, 0.50, 0.75])\n",
    "Ramicane_quart=Ramicane_df[\"Tumor Volume (mm3)\"].quantile([0.25, 0.50, 0.75])\n",
    "Infubinol_quart=Infubinol_df[\"Tumor Volume (mm3)\"].quantile([0.25, 0.50, 0.75])\n",
    "Ceftamin_quart=Ceftamin_df[\"Tumor Volume (mm3)\"].quantile([0.25, 0.50, 0.75])\n",
    "\n",
    "# Determination  of low and high quartiles\n",
    "low_Capo = Capomulin_quart[0.25]\n",
    "low_Rami = Ramicane_quart[0.25]\n",
    "low_Infubinol = Infubinol_quart[0.25]\n",
    "low_Cefta = Ceftamin_quart[0.25]\n",
    "\n",
    "high_Capo = Capomulin_quart[0.75]\n",
    "high_Rami = Ramicane_quart[0.75]\n",
    "high_Infubinol = Infubinol_quart[0.75]\n",
    "high_Cefta = Ceftamin_quart[0.75]\n",
    "\n",
    "\n",
    "# IQR operations\n",
    "iqr_Capo = high_Capo - low_Capo\n",
    "iqr_Rami = high_Rami - low_Rami\n",
    "iqr_Infubinol = high_Infubinol - low_Infubinol\n",
    "iqr_Cefta = high_Cefta - low_Cefta\n",
    "\n",
    "# Result\n",
    "print(\"The IQR are (Capomulin, Ramicane, Infubinol, Ceftamin):\")\n",
    "print(iqr_Capo, iqr_Rami, iqr_Infubinol, iqr_Cefta)\n",
    "\n",
    "# Bounds for outliers\n",
    "lower_bound_Capo = low_Capo - (1.5*iqr_Capo)\n",
    "lower_bound_Rami = low_Rami - (1.5*iqr_Rami)\n",
    "lower_bound_Infubinol = low_Infubinol - (1.5*iqr_Infubinol)\n",
    "lower_bound_Cefta = low_Cefta - (1.5*iqr_Cefta)\n",
    "\n",
    "higher_bound_Capo = high_Capo + (1.5*iqr_Capo)\n",
    "higher_bound_Rami = high_Rami + (1.5*iqr_Rami)\n",
    "higher_bound_Infubinol = high_Infubinol + (1.5*iqr_Infubinol)\n",
    "higher_bound_Cefta = high_Cefta + (1.5*iqr_Cefta)\n"
   ]
  },
  {
   "cell_type": "code",
   "execution_count": 38,
   "metadata": {},
   "outputs": [],
   "source": [
    "outliers_Capo = Capomulin_df.loc[(Capomulin_df['Tumor Volume (mm3)']<lower_bound_Capo) | (Capomulin_df['Tumor Volume (mm3)']>higher_bound_Capo)]\n",
    "outliers_Rami = Ramicane_df.loc[(Ramicane_df['Tumor Volume (mm3)']<lower_bound_Rami) | (Ramicane_df['Tumor Volume (mm3)']>higher_bound_Rami)]\n",
    "outliers_Infubinol = Infubinol_df.loc[(Infubinol_df['Tumor Volume (mm3)']<lower_bound_Infubinol) | (Infubinol_df['Tumor Volume (mm3)']>higher_bound_Infubinol)]\n",
    "outliers_Cefta = Ceftamin_df.loc[(Ceftamin_df['Tumor Volume (mm3)']<lower_bound_Cefta) | (Ceftamin_df['Tumor Volume (mm3)']>higher_bound_Cefta)]"
   ]
  },
  {
   "cell_type": "code",
   "execution_count": 39,
   "metadata": {},
   "outputs": [
    {
     "data": {
      "text/plain": [
       "0"
      ]
     },
     "execution_count": 39,
     "metadata": {},
     "output_type": "execute_result"
    }
   ],
   "source": [
    "len(outliers_Capo)"
   ]
  },
  {
   "cell_type": "code",
   "execution_count": 40,
   "metadata": {},
   "outputs": [
    {
     "data": {
      "text/plain": [
       "0"
      ]
     },
     "execution_count": 40,
     "metadata": {},
     "output_type": "execute_result"
    }
   ],
   "source": [
    "len(outliers_Rami)"
   ]
  },
  {
   "cell_type": "code",
   "execution_count": 41,
   "metadata": {},
   "outputs": [
    {
     "data": {
      "text/plain": [
       "0"
      ]
     },
     "execution_count": 41,
     "metadata": {},
     "output_type": "execute_result"
    }
   ],
   "source": [
    "len(outliers_Infubinol)"
   ]
  },
  {
   "cell_type": "code",
   "execution_count": 42,
   "metadata": {},
   "outputs": [
    {
     "data": {
      "text/plain": [
       "0"
      ]
     },
     "execution_count": 42,
     "metadata": {},
     "output_type": "execute_result"
    }
   ],
   "source": [
    "len(outliers_Cefta)"
   ]
  },
  {
   "cell_type": "code",
   "execution_count": 43,
   "metadata": {
    "scrolled": true
   },
   "outputs": [
    {
     "data": {
      "image/png": "[encoded data removed]",
      "text/plain": [
       "<Figure size 432x288 with 1 Axes>"
      ]
     },
     "metadata": {
      "needs_background": "light"
     },
     "output_type": "display_data"
    }
   ],
   "source": [
    "# Generate a box plot of the final tumor volume of each mouse across four regimens of interest\n",
    "\n",
    "green_diamond = dict(markerfacecolor='g', marker='D')\n",
    "data=[Capomulin_df[\"Tumor Volume (mm3)\"], Ramicane_df[\"Tumor Volume (mm3)\"], Infubinol_df[\"Tumor Volume (mm3)\"], Ceftamin_df[\"Tumor Volume (mm3)\"]]\n",
    "plt.boxplot(data, flierprops=green_diamond)\n",
    "plt.xlabel(\"Capomulin (1) Ramicane (2) Infubinol (3) Ceftamin (4)\")\n",
    "\n",
    "plt.title(\"Boxplot for Promising treatments, Timepoint: 45\")\n",
    "plt.show()\n",
    "\n"
   ]
  },
  {
   "cell_type": "markdown",
   "metadata": {},
   "source": [
    "## Line and Scatter Plots"
   ]
  },
  {
   "cell_type": "code",
   "execution_count": 44,
   "metadata": {},
   "outputs": [
    {
     "data": {
      "image/png": "[encoded data removed]",
      "text/plain": [
       "<Figure size 432x288 with 1 Axes>"
      ]
     },
     "metadata": {
      "needs_background": "light"
     },
     "output_type": "display_data"
    }
   ],
   "source": [
    "# Generate a line plot of time point versus tumor volume for a mouse treated with Capomulin\n",
    "Capomulin_df=mice_clean.loc[mice_clean[\"Drug Regimen\"]==\"Capomulin\"]\n",
    "Cap_plot=Capomulin_df.groupby(\"Timepoint\")['Tumor Volume (mm3)'].mean().to_frame()\n",
    "Cap_plot.plot(kind=\"line\", marker=\"x\")\n",
    "plt.xticks([0,5,10,15,20,25,30,35,40,45])\n",
    "plt.ylabel(\"Tumor Volume (mm3)\")\n",
    "plt.grid(True)\n",
    "plt.show()"
   ]
  },
  {
   "cell_type": "code",
   "execution_count": 45,
   "metadata": {},
   "outputs": [
    {
     "data": {
      "image/png": "[encoded data removed]",
      "text/plain": [
       "<Figure size 432x288 with 1 Axes>"
      ]
     },
     "metadata": {
      "needs_background": "light"
     },
     "output_type": "display_data"
    }
   ],
   "source": [
    "# Generate a scatter plot of mouse weight versus average tumor volume for the Capomulin regimen\n",
    "A1=Capomulin_df.groupby(\"Mouse ID\")[\"Weight (g)\"].mean().to_frame()\n",
    "A2=Capomulin_df.groupby(\"Mouse ID\")[\"Tumor Volume (mm3)\"].mean().to_frame()\n",
    "\n",
    "A3=A1.merge(A2, on=\"Mouse ID\", how=\"left\")\n",
    "\n",
    "A3.plot(kind=\"scatter\", x=[\"Weight (g)\"], y=[\"Tumor Volume (mm3)\"])\n",
    "plt.show()"
   ]
  },
  {
   "cell_type": "markdown",
   "metadata": {},
   "source": [
    "## Correlation and Regression"
   ]
  },
  {
   "cell_type": "code",
   "execution_count": 46,
   "metadata": {},
   "outputs": [
    {
     "name": "stdout",
     "output_type": "stream",
     "text": [
      "0.9544396890241045 21.552160532685015 0.8419363424694718 1.3225722434712642e-07 0.12754359033201337\n"
     ]
    }
   ],
   "source": [
    "# Calculate the correlation coefficient and linear regression model\n",
    "# for mouse weight and average tumor volume for the Capomulin regimen\n",
    "\n",
    "(slope,intercept,rvalue,pvalue,stderr)=st.linregress(A3[\"Weight (g)\"], A3[\"Tumor Volume (mm3)\"])\n",
    "print(slope,intercept,rvalue,pvalue,stderr)\n",
    "\n",
    "x_values=A3[\"Weight (g)\"]\n",
    "\n",
    "regress_values=x_values*slope+intercept\n",
    "\n",
    "r_square=rvalue**2\n"
   ]
  },
  {
   "cell_type": "code",
   "execution_count": 47,
   "metadata": {},
   "outputs": [
    {
     "name": "stdout",
     "output_type": "stream",
     "text": [
      "y=0.95x+21.55\n",
      "r^2 value: 0.7089\n"
     ]
    },
    {
     "data": {
      "image/png": "[encoded data removed]",
      "text/plain": [
       "<Figure size 432x288 with 1 Axes>"
      ]
     },
     "metadata": {
      "needs_background": "light"
     },
     "output_type": "display_data"
    }
   ],
   "source": [
    "line_equation=(f'y={round(slope,2)}x+{round(intercept,2)}')\n",
    "A3.plot(kind=\"scatter\", x=[\"Weight (g)\"], y=[\"Tumor Volume (mm3)\"])\n",
    "plt.plot(x_values, regress_values, color=\"red\", linestyle=\"solid\", linewidth=0.5)\n",
    "print(line_equation)\n",
    "print(f'r^2 value: {round(r_square,4)}')\n",
    "plt.show()\n"
   ]
  }
 ],
 "metadata": {
  "anaconda-cloud": {},
  "kernelspec": {
   "display_name": "Python 3",
   "language": "python",
   "name": "python3"
  },
  "language_info": {
   "codemirror_mode": {
    "name": "ipython",
    "version": 3
   },
   "file_extension": ".py",
   "mimetype": "text/x-python",
   "name": "python",
   "nbconvert_exporter": "python",
   "pygments_lexer": "ipython3",
   "version": "3.8.3"
  }
 },
 "nbformat": 4,
 "nbformat_minor": 2
}
